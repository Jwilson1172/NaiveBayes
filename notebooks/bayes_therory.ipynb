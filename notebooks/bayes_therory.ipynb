{
 "cells": [
  {
   "cell_type": "code",
   "execution_count": 9,
   "metadata": {},
   "outputs": [],
   "source": [
    "import numpy as np\n",
    "import pandas as pd\n",
    "import matplotlib.pyplot as plt\n",
    "\n",
    "from naivebayes import BayesTherory\n",
    "\n",
    "bt = BayesTherory()\n",
    "\n",
    "# some data to test with\n",
    "x, y = ([1, 0, 1, 0, 1], ['y', 'n', 'y', 'n', 'y'])\n",
    "a = [1, 0, 1, 0, 1]\n",
    "x = [x,x]\n",
    "# casting to numpy array\n",
    "x = np.array(x)\n",
    "# flipping to mach columns\n",
    "x = x.T\n",
    "# casting to df\n",
    "x = pd.DataFrame(x, columns=[\"f1\", \"f2\"])\n"
   ]
  },
  {
   "cell_type": "code",
   "execution_count": 6,
   "metadata": {},
   "outputs": [
    {
     "data": {
      "text/plain": [
       "0.6"
      ]
     },
     "execution_count": 6,
     "metadata": {},
     "output_type": "execute_result"
    }
   ],
   "source": [
    "bt.prob_given_label(y, 'y')\n"
   ]
  },
  {
   "cell_type": "code",
   "execution_count": 7,
   "metadata": {},
   "outputs": [
    {
     "data": {
      "text/plain": [
       "0.4"
      ]
     },
     "execution_count": 7,
     "metadata": {},
     "output_type": "execute_result"
    }
   ],
   "source": [
    "bt.prob_given_label(y, 'n')"
   ]
  },
  {
   "cell_type": "code",
   "execution_count": 8,
   "metadata": {},
   "outputs": [],
   "source": [
    "# conditonal Counter\n",
    "def cond_counter(x: list, y: list, cond_y) -> dict:\n",
    "    d = {}\n",
    "    for k, v in zip(x, y):\n",
    "        if v == cond_y:\n",
    "            if k in d:\n",
    "                d[k] += 1\n",
    "            else:\n",
    "                d[k] = 1\n",
    "    return d"
   ]
  },
  {
   "cell_type": "code",
   "execution_count": 10,
   "metadata": {},
   "outputs": [
    {
     "data": {
      "text/plain": [
       "{1: 3}"
      ]
     },
     "execution_count": 10,
     "metadata": {},
     "output_type": "execute_result"
    }
   ],
   "source": [
    "d = cond_counter(a, y, 'y')\n",
    "d"
   ]
  },
  {
   "cell_type": "code",
   "execution_count": 11,
   "metadata": {},
   "outputs": [
    {
     "name": "stdout",
     "output_type": "stream",
     "text": [
      "feature 1 prob in class 'y' is 3/3\n",
      "\n"
     ]
    }
   ],
   "source": [
    "l = y.count('y')\n",
    "for k, v in zip(d.keys(), d.values()):\n",
    "    print(\"feature \" + str(k) + \" prob in class 'y' is \" + str(v) + \"/\" +\n",
    "          str(l) + \"\\n\")"
   ]
  },
  {
   "cell_type": "code",
   "execution_count": 13,
   "metadata": {},
   "outputs": [
    {
     "data": {
      "text/plain": [
       "{'f1': {1: 1.0}, 'f2': {1: 1.0}}"
      ]
     },
     "execution_count": 13,
     "metadata": {},
     "output_type": "execute_result"
    }
   ],
   "source": [
    "# the class label we are looking for\n",
    "cond_y = 'y'\n",
    "\n",
    "# combine the above two cells into a function\n",
    "bt.prob_feature_given_label(X=x, y=pd.Series(np.array(y).T), cond_y='y')"
   ]
  }
 ],
 "metadata": {
  "interpreter": {
   "hash": "db139ebed9cc87799812a4aabb66e0c5073360e931be29ec3a2706c20cb1acbb"
  },
  "kernelspec": {
   "display_name": "Python 3.8.12 64-bit ('ds': conda)",
   "language": "python",
   "name": "python3"
  },
  "language_info": {
   "codemirror_mode": {
    "name": "ipython",
    "version": 3
   },
   "file_extension": ".py",
   "mimetype": "text/x-python",
   "name": "python",
   "nbconvert_exporter": "python",
   "pygments_lexer": "ipython3",
   "version": "3.8.12"
  },
  "orig_nbformat": 4
 },
 "nbformat": 4,
 "nbformat_minor": 2
}
